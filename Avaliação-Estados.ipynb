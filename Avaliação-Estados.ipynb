{
 "cells": [
  {
   "attachments": {},
   "cell_type": "markdown",
   "metadata": {},
   "source": [
    "# Trabalho avaliativo - Sistemas de controle II - 2023.2\n",
    "\n",
    "**Leia com atenção as instruções abaixo**"
   ]
  },
  {
   "attachments": {},
   "cell_type": "markdown",
   "metadata": {},
   "source": [
    "*Informe na célula de código abaixo o seu número de matrícula:* \n",
    "\n",
    "***Não remova as aspas***"
   ]
  },
  {
   "cell_type": "code",
   "execution_count": 1,
   "metadata": {},
   "outputs": [],
   "source": [
    "# Informe aqui sua matrícula\n",
    "mat = '201733940015'"
   ]
  },
  {
   "attachments": {},
   "cell_type": "markdown",
   "metadata": {},
   "source": [
    "*Depois de informar os dados, execute o arquivo inteiro. Caso ocorra algum erro, peça ajuda ao professor*\n",
    "\n",
    "*Resolva as questões abaixo, **justificando** todas as respostas. Utilize markdown para escrever texto e Python para fazer as contas. O trabalho é individual*"
   ]
  },
  {
   "cell_type": "code",
   "execution_count": 2,
   "metadata": {},
   "outputs": [],
   "source": [
    "# \n",
    "# Não modifique esta célula! Você pode comprometer a sua avaliação.\n",
    "from numpy.random import RandomState\n",
    "from IPython.display import display, Math\n",
    "from sympy import symbols, sin, cos, latex\n",
    "from sympy import ImmutableMatrix as matriz\n",
    "from numpy import arange\n",
    "import numpy as np\n",
    "\n",
    "_nn = int(mat[0:4]+mat[-2:])\n",
    "_rng = RandomState(_nn)\n",
    "#_dig = arange(-9,10)\n",
    "#_dig = _dig[_dig!=0]\n",
    "#_n = _rng.randint(0,_dig.size,20)\n",
    "_n = _rng.random(size=(4,)).round(3)\n",
    "def G(): \n",
    "    s = symbols('s')\n",
    "    c = .5+0.10*_n[0]\n",
    "    d = .5+0.25*_n[1]\n",
    "    a = .2+0.15*_n[2]\n",
    "    b = 9+_n[3]\n",
    "    b0 = (b*c**2*d).round(3)\n",
    "    b1 = (a*b*c**2*d).round(3)\n",
    "    G = (b1*s+b0)/((s+c)**2*(s+d))\n",
    "    display(Math('G(s) = ' + latex(G)))"
   ]
  },
  {
   "attachments": {},
   "cell_type": "markdown",
   "metadata": {},
   "source": [
    "## 1."
   ]
  },
  {
   "attachments": {},
   "cell_type": "markdown",
   "metadata": {},
   "source": [
    "*Considere o sistema:*"
   ]
  },
  {
   "cell_type": "code",
   "execution_count": 3,
   "metadata": {},
   "outputs": [
    {
     "data": {
      "text/latex": [
       "$\\displaystyle G(s) = \\frac{0.508 s + 1.996}{\\left(s + 0.5678\\right)^{2} \\left(s + 0.6195\\right)}$"
      ],
      "text/plain": [
       "<IPython.core.display.Math object>"
      ]
     },
     "metadata": {},
     "output_type": "display_data"
    }
   ],
   "source": [
    "G()"
   ]
  },
  {
   "attachments": {},
   "cell_type": "markdown",
   "metadata": {},
   "source": [
    "1. *Faça uma análise de malha aberta: verifique estabilidade e características de resposta ao degrau unitário (25%). Opcional: analise o que aconteceria caso fosse utilizada realimentação proporcional (+10% extra)*\n",
    "\n",
    "2. *Proponha especificações de desempenho em malha fechada com base na análise de malha aberta do item 1 (20%).*\n",
    "\n",
    "3. *Projete um compensador de estados de ordem completa, de acordo com as especificações estabelecidas no item 2 e também forneça rejeição à distúrbios do tipo degrau. Justifique as escolhas de todos os pólos e apresente as funções de transferência do compensador ao final (35%).*\n",
    "\n",
    "4. *Analise e simule o sistema em malha fechada. Plote e analise os sinais de saída e de controle (20%). Opcional: faça uma análise de resposta a uma perturbação (+10% extra)*"
   ]
  },
  {
   "attachments": {},
   "cell_type": "markdown",
   "metadata": {},
   "source": [
    "---\n",
    "\n",
    "# RESPOSTAS"
   ]
  },
  {
   "attachments": {},
   "cell_type": "markdown",
   "metadata": {},
   "source": [
    "1. *Faça uma análise de malha aberta: verifique estabilidade e características de resposta ao degrau unitário (25%). Opcional: analise o que aconteceria caso fosse utilizada realimentação proporcional (+10% extra)*"
   ]
  },
  {
   "attachments": {},
   "cell_type": "markdown",
   "metadata": {},
   "source": [
    "Para realizar a análise, será usada a biblioteca **Python-Control**, para isso, é preciso ter a função de transferência expandida tanto no denominador quanto no numerador, assim, será realizada a expanssão do denominador usando a biblioteca **sympy**."
   ]
  },
  {
   "cell_type": "code",
   "execution_count": 4,
   "metadata": {},
   "outputs": [
    {
     "data": {
      "text/latex": [
       "$\\displaystyle \\operatorname{Poly}{\\left( 1.0 s^{3} + 1.7551 s^{2} + 1.02590104 s + 0.19972484238, s, domain=\\mathbb{R} \\right)}$"
      ],
      "text/plain": [
       "Poly(1.0*s**3 + 1.7551*s**2 + 1.02590104*s + 0.19972484238, s, domain='RR')"
      ]
     },
     "execution_count": 4,
     "metadata": {},
     "output_type": "execute_result"
    }
   ],
   "source": [
    "s = symbols('s')\n",
    "\n",
    "den = (s + 0.5678)**2 * (s + 0.6195)\n",
    "den.as_poly()"
   ]
  },
  {
   "attachments": {},
   "cell_type": "markdown",
   "metadata": {},
   "source": [
    "Importando a biblioteca control para realizar as análises em malha aberta do sistema."
   ]
  },
  {
   "cell_type": "code",
   "execution_count": 5,
   "metadata": {},
   "outputs": [],
   "source": [
    "import control as ct\n",
    "import matplotlib.pyplot as plt"
   ]
  },
  {
   "attachments": {},
   "cell_type": "markdown",
   "metadata": {},
   "source": [
    "Com o numerador e denominador expandidos, é possível obter a função de transferência com a biblioteca control, assim temos:"
   ]
  },
  {
   "cell_type": "code",
   "execution_count": 6,
   "metadata": {},
   "outputs": [
    {
     "data": {
      "text/latex": [
       "$$\\frac{0.508 s + 1.996}{s^3 + 1.755 s^2 + 1.026 s + 0.1997}$$"
      ],
      "text/plain": [
       "TransferFunction(array([0.508, 1.996]), array([1.    , 1.7551, 1.0259, 0.1997]))"
      ]
     },
     "execution_count": 6,
     "metadata": {},
     "output_type": "execute_result"
    }
   ],
   "source": [
    "num = np.array([0.5080, 1.996])\n",
    "den = np.array([1.0, 1.7551, 1.0259, 0.1997])\n",
    "\n",
    "Gs = ct.TransferFunction(num, den)\n",
    "Gs"
   ]
  },
  {
   "cell_type": "code",
   "execution_count": 7,
   "metadata": {},
   "outputs": [
    {
     "name": "stdout",
     "output_type": "stream",
     "text": [
      "_____Eigenvalue______ Damping___ Frequency_\n",
      "   -0.6029 +0.008373j     0.9999      0.603\n",
      "   -0.6029 -0.008373j     0.9999      0.603\n",
      "   -0.5492                     1     0.5492\n"
     ]
    }
   ],
   "source": [
    "ct.damp(Gs);"
   ]
  },
  {
   "attachments": {},
   "cell_type": "markdown",
   "metadata": {},
   "source": [
    "#### Análise da Estabiblidade"
   ]
  },
  {
   "cell_type": "code",
   "execution_count": 8,
   "metadata": {},
   "outputs": [
    {
     "name": "stdout",
     "output_type": "stream",
     "text": [
      "\n",
      "Polos:  [-0.60294159+0.00837337j -0.60294159-0.00837337j -0.54921683+0.j        ]\n",
      "\n",
      "Zeros:  [-3.92913386+0.j]\n"
     ]
    }
   ],
   "source": [
    "print(\"\\nPolos: \", ct.poles(Gs))\n",
    "print(\"\\nZeros: \", ct.zeros(Gs))"
   ]
  },
  {
   "attachments": {},
   "cell_type": "markdown",
   "metadata": {},
   "source": [
    "O sistema é estável já que seus pólos de malha aberta estão no seme-plano esquerdo do plano complexo."
   ]
  },
  {
   "attachments": {},
   "cell_type": "markdown",
   "metadata": {},
   "source": [
    "#### Análise da resposta ao degrau"
   ]
  },
  {
   "cell_type": "code",
   "execution_count": 9,
   "metadata": {},
   "outputs": [
    {
     "data": {
      "image/png": "[encoded data removed]",
      "text/plain": [
       "<Figure size 800x400 with 1 Axes>"
      ]
     },
     "metadata": {},
     "output_type": "display_data"
    }
   ],
   "source": [
    "t, y = ct.step_response(Gs, T=20)\n",
    "\n",
    "plt.figure(figsize=(8, 4))\n",
    "plt.plot(t, y)\n",
    "plt.title(\"Resposta ao degrau\")\n",
    "plt.xlabel(\"Tempo (s)\")\n",
    "plt.ylabel(\"Amplitude\")\n",
    "plt.grid()\n",
    "plt.show()\n"
   ]
  },
  {
   "cell_type": "code",
   "execution_count": 10,
   "metadata": {},
   "outputs": [
    {
     "data": {
      "text/plain": [
       "{'RiseTime': 7.241570623420809,\n",
       " 'SettlingTime': nan,\n",
       " 'SettlingMin': 9.012838765840575,\n",
       " 'SettlingMax': 9.9949924887331,\n",
       " 'Overshoot': 0,\n",
       " 'Undershoot': 0,\n",
       " 'Peak': 9.791912022012033,\n",
       " 'PeakTime': 12.577464766994037,\n",
       " 'SteadyStateValue': 9.9949924887331}"
      ]
     },
     "execution_count": 10,
     "metadata": {},
     "output_type": "execute_result"
    }
   ],
   "source": [
    "ct.step_info(Gs)"
   ]
  },
  {
   "attachments": {},
   "cell_type": "markdown",
   "metadata": {},
   "source": [
    "Ao realizar a resposta ao degrau unitário, pode-se observar o comportamento do sistema, a função **ct.step_info()** mostrar os valores dos parâmetros do sistema, entre eles tem-se:\n",
    "\n",
    "> Tempo de subida: 7.241s\\\n",
    "> Tempo de acomodação:  12,57\\\n",
    "> Overshoot : 0%\n",
    "> Valor de estado estacionário: 9,994\n",
    "\n"
   ]
  },
  {
   "attachments": {},
   "cell_type": "markdown",
   "metadata": {},
   "source": [
    "#### Aplicando uma Realimentação Proporcional no Sistema"
   ]
  },
  {
   "cell_type": "code",
   "execution_count": 11,
   "metadata": {},
   "outputs": [
    {
     "name": "stdout",
     "output_type": "stream",
     "text": [
      "\n",
      "Polos de Malha Fechada:  [-2.21736275+0.j          0.23113138+2.13013673j  0.23113138-2.13013673j]\n"
     ]
    },
    {
     "data": {
      "image/png": "[encoded data removed]",
      "text/plain": [
       "<Figure size 800x400 with 1 Axes>"
      ]
     },
     "metadata": {},
     "output_type": "display_data"
    }
   ],
   "source": [
    "Cs = 5.0\n",
    "\n",
    "H_mf = ct.feedback(Cs*Gs, 1, -1)\n",
    "print(\"\\nPolos de Malha Fechada: \", ct.poles(H_mf))\n",
    "\n",
    "t1, y1 = ct.step_response(H_mf, T=70)\n",
    "\n",
    "plt.figure(figsize=(8, 4))\n",
    "plt.plot(t1, y1)\n",
    "plt.title(\"Simulação Malha Fechada - Controlador P\")\n",
    "plt.xlabel(\"Tempo (s)\")\n",
    "plt.ylabel(\"Amplitude\")\n",
    "plt.grid()\n",
    "plt.show()\n"
   ]
  },
  {
   "cell_type": "code",
   "execution_count": 12,
   "metadata": {},
   "outputs": [
    {
     "data": {
      "text/plain": [
       "{'RiseTime': 0.49811175087375553,\n",
       " 'SettlingTime': nan,\n",
       " 'SettlingMin': -745.2923725631846,\n",
       " 'SettlingMax': 532.5150631505201,\n",
       " 'Overshoot': 54217.07002358066,\n",
       " 'Undershoot': 76020.56878738929,\n",
       " 'Peak': 745.2923725631846,\n",
       " 'PeakTime': 29.637649176988454,\n",
       " 'SteadyStateValue': 0.9803825260076426}"
      ]
     },
     "execution_count": 12,
     "metadata": {},
     "output_type": "execute_result"
    }
   ],
   "source": [
    "ct.step_info(H_mf)"
   ]
  },
  {
   "attachments": {},
   "cell_type": "markdown",
   "metadata": {},
   "source": [
    "Ao aplicar um controlador proporcional na planta, ocorreu que o sistema se tornou instável, isso é possível de se observar o gráfico do sinal de saída ao os pólos de malha fechada do sistema, podemos observar que existe dois pólos no semi-plano direto, eles são os responsáveis pela instabilidade, além disso, ao observar os dados obtidos usando a função **tc.step_info()**, se conclui que os requisitos do sistema pioram, já que o sistema se tornou instável."
   ]
  },
  {
   "attachments": {},
   "cell_type": "markdown",
   "metadata": {},
   "source": [
    "---\n",
    "\n",
    "2. *Proponha especificações de desempenho em malha fechada com base na análise de malha aberta do item 1 (20%).*\n",
    "\n",
    "Para o projeto será considerado as seguintes speficifações:\n",
    "\n",
    "- Sobrecinal $\\le 8\\%$\n",
    "- Frequência natural: $w_n$ três vezes o valor do polo em malha aberta"
   ]
  },
  {
   "attachments": {},
   "cell_type": "markdown",
   "metadata": {},
   "source": [
    "$$\n",
    "\\begin{align}\n",
    "    \\xi &= \\frac{-\\ln{(\\%UP/100)}}{\\sqrt{\\pi^2+\\ln^2{(\\%UP/100)}}}\\\\\n",
    "\\end{align}\n",
    "$$"
   ]
  },
  {
   "cell_type": "code",
   "execution_count": 13,
   "metadata": {},
   "outputs": [
    {
     "data": {
      "text/latex": [
       "$\\xi = 0.6265771868559205$"
      ],
      "text/plain": [
       "<IPython.core.display.Latex object>"
      ]
     },
     "metadata": {},
     "output_type": "display_data"
    },
    {
     "data": {
      "text/latex": [
       "$p_{1,2} = -1.1335\\pm 1.4099j$"
      ],
      "text/plain": [
       "<IPython.core.display.Latex object>"
      ]
     },
     "metadata": {},
     "output_type": "display_data"
    }
   ],
   "source": [
    "from IPython.display import display, Latex\n",
    "\n",
    "wn = 3*0.603\n",
    "Up = 8\n",
    "\n",
    "xi = (-np.log(Up/100))/(np.sqrt(np.pi**2+np.log(Up/100)**2))\n",
    "display(Latex(f\"$\\\\xi = {xi}$\"))\n",
    "\n",
    "# Pólos dominantes a partir dos requisitos desejados\n",
    "p = -xi*wn+1j*wn*np.sqrt(1-xi**2)\n",
    "display(Latex(f\"$p_{{1,2}} = {np.real(p):.4f}\\pm {np.imag(p):.4f}j$\"))"
   ]
  },
  {
   "attachments": {},
   "cell_type": "markdown",
   "metadata": {},
   "source": [
    "Temos conhecimento de que o sistema é de terceira ordem. Ao introduzirmos o integrador, ele passará a ser de quarta ordem (antes do observador). Portanto, além dos polos dominantes, devemos alocar mais dois polos. Optaremos por colocar um polo acima do zero, para cancelar, e outro polo real arbitrário, cuja parte real será quatro vezes maior que a parte real do polo dominante."
   ]
  },
  {
   "cell_type": "code",
   "execution_count": 14,
   "metadata": {},
   "outputs": [
    {
     "name": "stdout",
     "output_type": "stream",
     "text": [
      "[(-1.13347813102236+1.4098611018444538j), (-1.13347813102236-1.4098611018444538j), (-3.9291338582677167+0j), -4.53391252408944]\n",
      "[ 1.         10.73000264 40.2721862  68.07950898 58.29711931]\n"
     ]
    }
   ],
   "source": [
    "polos_desejados = [p,np.conjugate(p),ct.zeros(Gs)[0],4*np.real(p)]\n",
    "print(polos_desejados)\n",
    "poli_mf = np.poly(polos_desejados)\n",
    "print(poli_mf)"
   ]
  },
  {
   "attachments": {},
   "cell_type": "markdown",
   "metadata": {},
   "source": [
    "Então o polinômio desejado é:\n",
    "$$\n",
    "\\begin{align}\n",
    "    \\alpha(s) &=s^4 + 10.730s^3 + 40.27s^2 + 68.079s + 58.29\n",
    "\\end{align}\n",
    "$$\n",
    "\n",
    "Vamos agora definir o sistema no espaço de estados usando FCC"
   ]
  },
  {
   "cell_type": "code",
   "execution_count": 15,
   "metadata": {},
   "outputs": [
    {
     "data": {
      "text/plain": [
       "array([[-1.7551, -1.0259, -0.1997],\n",
       "       [ 1.    ,  0.    ,  0.    ],\n",
       "       [ 0.    ,  1.    ,  0.    ]])"
      ]
     },
     "execution_count": 15,
     "metadata": {},
     "output_type": "execute_result"
    }
   ],
   "source": [
    "F = np.block([[-den[1:]],[np.eye(2), np.zeros((2,1))]])\n",
    "G = np.block([[1],[np.zeros((2,1))]])\n",
    "H = np.block([[0,num]])\n",
    "J = 0\n",
    "n = F.shape[0]\n",
    "\n",
    "F"
   ]
  },
  {
   "attachments": {},
   "cell_type": "markdown",
   "metadata": {},
   "source": [
    "A partir das matrizes acima, podemos aumentar as matrizes para o projeto com integrador:"
   ]
  },
  {
   "cell_type": "code",
   "execution_count": 16,
   "metadata": {},
   "outputs": [
    {
     "name": "stdout",
     "output_type": "stream",
     "text": [
      "[[-1.7551 -1.0259 -0.1997  0.    ]\n",
      " [ 1.      0.      0.      0.    ]\n",
      " [ 0.      1.      0.      0.    ]\n",
      " [-0.     -0.508  -1.996   0.    ]]\n",
      "\n",
      "[[1.]\n",
      " [0.]\n",
      " [0.]\n",
      " [0.]]\n"
     ]
    }
   ],
   "source": [
    "Fa = np.block([ [   F,   np.zeros((n,1)) ],\n",
    "                [  -H,   0          ]])\n",
    "\n",
    "Ga = np.block([[G], [0]])\n",
    "\n",
    "print(Fa)\n",
    "print(\"\")\n",
    "print(Ga)"
   ]
  },
  {
   "attachments": {},
   "cell_type": "markdown",
   "metadata": {},
   "source": [
    "\n",
    "Alocação de polos com integrador"
   ]
  },
  {
   "cell_type": "code",
   "execution_count": 17,
   "metadata": {},
   "outputs": [
    {
     "name": "stdout",
     "output_type": "stream",
     "text": [
      "[[  8.97490264  39.2462862   53.04266639 -29.2069736 ]]\n",
      "\n",
      "[[ 8.97490264 39.2462862  53.04266639]]\n",
      "\n",
      "[-29.2069736]\n"
     ]
    }
   ],
   "source": [
    "Ka = ct.acker(Fa,Ga,polos_desejados)\n",
    "K = Ka[:,0:n]\n",
    "Ki = Ka[:,-1]\n",
    "print(Ka)\n",
    "print(\"\")\n",
    "print(K)\n",
    "print(\"\")\n",
    "print(Ki)"
   ]
  },
  {
   "attachments": {},
   "cell_type": "markdown",
   "metadata": {},
   "source": [
    "Será usado Polos do observador reais e iguais, a um fator de 4 da parte real dos pólos dominantes:"
   ]
  },
  {
   "cell_type": "code",
   "execution_count": 18,
   "metadata": {},
   "outputs": [
    {
     "name": "stdout",
     "output_type": "stream",
     "text": [
      "Ganhos do observador. L = \n",
      "[[17.38886945]\n",
      " [15.53988429]\n",
      " [ 1.98014847]]\n"
     ]
    }
   ],
   "source": [
    "po = 4*np.real(p)\n",
    "#print(po)\n",
    "L = ct.acker(F.T, H.T, [po]*n).T      # [po]*n = repete a lista n vezes, ou seja [po,po,po]\n",
    "print(\"Ganhos do observador. L = \")\n",
    "print(L)"
   ]
  },
  {
   "attachments": {},
   "cell_type": "markdown",
   "metadata": {},
   "source": [
    "#### Equações do controlador"
   ]
  },
  {
   "cell_type": "code",
   "execution_count": 19,
   "metadata": {},
   "outputs": [
    {
     "name": "stdout",
     "output_type": "stream",
     "text": [
      "<LinearIOSystem>: sys[23]\n",
      "Inputs (2): ['u[0]', 'u[1]']\n",
      "Outputs (1): ['y[0]']\n",
      "States (4): ['x[0]', 'x[1]', 'x[2]', 'x[3]']\n",
      "\n",
      "A = [[-1.07300026e+01 -4.91057319e+01 -8.79505498e+01  0.00000000e+00]\n",
      "     [ 1.00000000e+00 -7.89426122e+00 -3.10176090e+01  0.00000000e+00]\n",
      "     [ 0.00000000e+00 -5.91542423e-03 -3.95237635e+00  0.00000000e+00]\n",
      "     [ 0.00000000e+00  0.00000000e+00  0.00000000e+00  0.00000000e+00]]\n",
      "\n",
      "B = [[17.38886945  0.        ]\n",
      "     [15.53988429  0.        ]\n",
      "     [ 1.98014847  0.        ]\n",
      "     [-1.          1.        ]]\n",
      "\n",
      "C = [[ -8.97490264 -39.2462862  -53.04266639  29.2069736 ]]\n",
      "\n",
      "D = [[0. 0.]]\n",
      "\n"
     ]
    }
   ],
   "source": [
    "Fc = np.block([[F-G@K-L@H, np.zeros((n,1))],[np.zeros((1,n+1))]])\n",
    "Gc = np.block([[L, np.zeros((n,1))],[np.array([-1,1])]])\n",
    "Hc = -Ka\n",
    "cont = ct.ss(Fc,Gc,Hc,0)\n",
    "print(cont)"
   ]
  },
  {
   "attachments": {},
   "cell_type": "markdown",
   "metadata": {},
   "source": [
    "#### Funções de transferência para o controlador"
   ]
  },
  {
   "cell_type": "code",
   "execution_count": 20,
   "metadata": {},
   "outputs": [
    {
     "data": {
      "text/latex": [
       "$$\\begin{bmatrix}\\frac{-900.2 s^3 - 3274 s^2 - 8486 s - 1.537 \\times 10^{4}}{s^4 + 22.58 s^3 + 207.2 s^2 + 526.4 s - 1.819 \\times 10^{-12}}\\frac{29.21 s^3 + 659.4 s^2 + 6053 s + 1.537 \\times 10^{4}}{s^4 + 22.58 s^3 + 207.2 s^2 + 526.4 s - 1.819 \\times 10^{-12}}\\\\ \\end{bmatrix}$$"
      ],
      "text/plain": [
       "TransferFunction([[array([  -900.18548529,  -3274.23808355,  -8486.21050981, -15374.05718181]), array([   29.2069736 ,   659.39533487,  6052.78876167, 15374.05718181])]], [[array([ 1.00000000e+00,  2.25766402e+01,  2.07237793e+02,  5.26383096e+02,\n",
       "       -1.81898940e-12]), array([ 1.00000000e+00,  2.25766402e+01,  2.07237793e+02,  5.26383096e+02,\n",
       "       -1.81898940e-12])]])"
      ]
     },
     "execution_count": 20,
     "metadata": {},
     "output_type": "execute_result"
    }
   ],
   "source": [
    "(ct.tf(cont))"
   ]
  },
  {
   "attachments": {},
   "cell_type": "markdown",
   "metadata": {},
   "source": [
    "\n",
    "#### Simulação do sisnal de saída e de controle"
   ]
  },
  {
   "cell_type": "code",
   "execution_count": 21,
   "metadata": {},
   "outputs": [
    {
     "name": "stdout",
     "output_type": "stream",
     "text": [
      "_____Eigenvalue______ Damping___ Frequency_\n",
      "    -1.133     +1.41j     0.6266      1.809\n",
      "    -1.133     -1.41j     0.6266      1.809\n",
      "    -4.535 +0.001199j          1      4.535\n",
      "    -4.535 -0.001199j          1      4.535\n",
      "    -4.533   +0.0012j          1      4.533\n",
      "    -4.533   -0.0012j          1      4.533\n",
      "    -3.929                     1      3.929\n",
      "\n",
      "[-4.53396729+0.00000000e+00j -4.53388514+4.74298586e-05j\n",
      " -4.53388514-4.74298586e-05j -3.92913386+0.00000000e+00j]\n"
     ]
    }
   ],
   "source": [
    "Fmf = np.block([[F,-G@K,-G*Ki],[L@H,F-G@K-L@H,-G*Ki],[-H,np.zeros((1,n+1))]])\n",
    "Gmf = np.block([[np.zeros((2*n,1))],[1]])\n",
    "Hmf_y = np.block([[H,np.zeros((1,n+1))]])\n",
    "Hmf_u = np.block([[-Ka,np.zeros((1,n))]])\n",
    "Jmf = 0\n",
    "MF_y = ct.ss(Fmf,Gmf,Hmf_y,Jmf)\n",
    "MF_u = ct.ss(Fmf,Gmf,Hmf_u,Jmf)\n",
    "#print(MF)\n",
    "T=(ct.damp(MF_y))\n",
    "print(\"\")\n",
    "print(ct.zeros(MF_y))"
   ]
  },
  {
   "cell_type": "code",
   "execution_count": 22,
   "metadata": {},
   "outputs": [
    {
     "data": {
      "text/plain": [
       "{'RiseTime': 1.1521561363590649,\n",
       " 'SettlingTime': 3.5474281040529103,\n",
       " 'SettlingMin': 0.9060863789604487,\n",
       " 'SettlingMax': 1.0718242090866557,\n",
       " 'Overshoot': 7.1824209086655415,\n",
       " 'Undershoot': 0,\n",
       " 'Peak': 1.0718242090866557,\n",
       " 'PeakTime': 2.5165515609947997,\n",
       " 'SteadyStateValue': 1.0000000000000002}"
      ]
     },
     "execution_count": 22,
     "metadata": {},
     "output_type": "execute_result"
    }
   ],
   "source": [
    "ct.step_info(MF_y)"
   ]
  },
  {
   "cell_type": "code",
   "execution_count": 23,
   "metadata": {},
   "outputs": [],
   "source": [
    "ts = 4/abs(np.real(p))\n",
    "t,y = ct.step_response(MF_y,3*ts)\n",
    "t,u = ct.step_response(MF_u,3*ts)\n"
   ]
  },
  {
   "attachments": {},
   "cell_type": "markdown",
   "metadata": {},
   "source": [
    "#### Gráfico do sinal de saída"
   ]
  },
  {
   "cell_type": "code",
   "execution_count": 24,
   "metadata": {},
   "outputs": [
    {
     "data": {
      "image/png": "[encoded data removed]",
      "text/plain": [
       "<Figure size 800x400 with 1 Axes>"
      ]
     },
     "metadata": {},
     "output_type": "display_data"
    }
   ],
   "source": [
    "plt.figure(figsize=(8, 4))\n",
    "plt.plot(t, y)\n",
    "plt.title(\"Saída do sistema\")\n",
    "plt.xlabel(\"Tempo (s)\")\n",
    "plt.ylabel(\"Amplitude\")\n",
    "plt.grid()\n",
    "np.max(y)\n",
    "plt.show()"
   ]
  },
  {
   "attachments": {},
   "cell_type": "markdown",
   "metadata": {},
   "source": [
    "#### Gráfico do sisnal de Controle"
   ]
  },
  {
   "cell_type": "code",
   "execution_count": 25,
   "metadata": {},
   "outputs": [
    {
     "data": {
      "image/png": "[encoded data removed]",
      "text/plain": [
       "<Figure size 800x400 with 1 Axes>"
      ]
     },
     "metadata": {},
     "output_type": "display_data"
    }
   ],
   "source": [
    "plt.figure(figsize=(8, 4))\n",
    "plt.plot(t,u)\n",
    "plt.title(\"Sinal de Controle\")\n",
    "plt.xlabel(\"Tempo (s)\")\n",
    "plt.ylabel(\"Amplitude\")\n",
    "plt.grid()\n",
    "np.max(y)\n",
    "plt.show()"
   ]
  }
 ],
 "metadata": {
  "kernelspec": {
   "display_name": "Python 3.9.12 ('base')",
   "language": "python",
   "name": "python3"
  },
  "language_info": {
   "codemirror_mode": {
    "name": "ipython",
    "version": 3
   },
   "file_extension": ".py",
   "mimetype": "text/x-python",
   "name": "python",
   "nbconvert_exporter": "python",
   "pygments_lexer": "ipython3",
   "version": "3.10.8"
  },
  "orig_nbformat": 4,
  "vscode": {
   "interpreter": {
    "hash": "3e3763a57b4ffe0d06e963ec4b7f8ef3a748cbfdb342037439726ee83e94c05b"
   }
  }
 },
 "nbformat": 4,
 "nbformat_minor": 2
}
